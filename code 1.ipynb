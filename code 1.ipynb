{
 "cells": [
  {
   "cell_type": "code",
   "execution_count": null,
   "metadata": {},
   "outputs": [],
   "source": [
    "#1.\n",
    "x = input('enter first = ')\n",
    "y = input('enter last = ')\n",
    "print(y ,x)"
   ]
  },
  {
   "cell_type": "code",
   "execution_count": 5,
   "metadata": {},
   "outputs": [
    {
     "name": "stdout",
     "output_type": "stream",
     "text": [
      "enter a num1\n",
      "enter a num2\n",
      "enter a num3\n",
      "6\n",
      "2.0\n"
     ]
    }
   ],
   "source": [
    "#2.\n",
    "a=int(input('enter a num'))\n",
    "b=int(input('enter a num'))\n",
    "c=int(input('enter a num'))\n",
    "j = (a+b+c)\n",
    "print(j)\n",
    "j = (j/3)\n",
    "print(j)"
   ]
  },
  {
   "cell_type": "code",
   "execution_count": 1,
   "metadata": {},
   "outputs": [
    {
     "name": "stdout",
     "output_type": "stream",
     "text": [
      " enter first 1\n",
      " enter second 5\n",
      "36\n"
     ]
    }
   ],
   "source": [
    "#3.\n",
    "x= int(input(' enter first '))\n",
    "y= int(input(' enter second '))\n",
    "t= (x+y)*(x+y)\n",
    "print(t)"
   ]
  },
  {
   "cell_type": "code",
   "execution_count": 6,
   "metadata": {},
   "outputs": [
    {
     "name": "stdout",
     "output_type": "stream",
     "text": [
      "30 + 20 = 50\n"
     ]
    }
   ],
   "source": [
    "#4.\n",
    "x=30\n",
    "y=20\n",
    "t=int(x+y)\n",
    "print(x,'+',y,'=',t)"
   ]
  },
  {
   "cell_type": "code",
   "execution_count": 2,
   "metadata": {},
   "outputs": [
    {
     "name": "stdout",
     "output_type": "stream",
     "text": [
      " enter name h\n",
      " enter age 0\n",
      "you will turn 100 year old in 2119\n"
     ]
    }
   ],
   "source": [
    "#5.\n",
    "f=input(' enter name ')\n",
    "g=input(' enter age ')\n",
    "g = int(2019 + 100 - int(g))\n",
    "print('you will turn 100 year old in',g)"
   ]
  },
  {
   "cell_type": "code",
   "execution_count": 1,
   "metadata": {},
   "outputs": [
    {
     "name": "stdout",
     "output_type": "stream",
     "text": [
      "enter radius3\n",
      " volume =  113.03999999999999\n"
     ]
    }
   ],
   "source": [
    "#6.\n",
    "r = float(input('enter radius'))\n",
    "q = float(3.14 * r * r * r * (4/3))\n",
    "print(' volume = ',q)"
   ]
  },
  {
   "cell_type": "code",
   "execution_count": 2,
   "metadata": {},
   "outputs": [
    {
     "name": "stdout",
     "output_type": "stream",
     "text": [
      " one leg 0\n",
      " other leg 1\n",
      "1.0\n"
     ]
    }
   ],
   "source": [
    "#7.\n",
    "q1 = input( ' one leg ')\n",
    "q2 = input ( ' other leg ')\n",
    "t = ((float (q1)**2) + (float (q2)**2))**(0.5)\n",
    "print(t)"
   ]
  },
  {
   "cell_type": "code",
   "execution_count": 3,
   "metadata": {},
   "outputs": [
    {
     "name": "stdout",
     "output_type": "stream",
     "text": [
      " first x value 1\n",
      " first y value 2\n",
      " second x value 3\n",
      " second y value 4\n",
      "2.8284271247461903\n"
     ]
    }
   ],
   "source": [
    "#8.\n",
    "x1 = input( ' first x value ')\n",
    "y1 = input ( ' first y value ')\n",
    "x2 = input(' second x value ')\n",
    "y2 = input(' second y value ')\n",
    "x1=float(x1)\n",
    "y1=float(y1)\n",
    "x2=float(x2)\n",
    "y2=float(y2)\n",
    "t = (((float (abs(x1-x2))**2) + (float (abs(y1-y2))**2)))**(0.5)\n",
    "print(t)"
   ]
  },
  {
   "cell_type": "code",
   "execution_count": 16,
   "metadata": {},
   "outputs": [
    {
     "name": "stdout",
     "output_type": "stream",
     "text": [
      " enter a num 5\n",
      "False\n"
     ]
    }
   ],
   "source": [
    "#9.\n",
    "c= int(input(' enter a num '))\n",
    "y = c%2\n",
    "#print(not bool(y))\n",
    "\n",
    "print(c%2 == 0)"
   ]
  },
  {
   "cell_type": "code",
   "execution_count": 10,
   "metadata": {},
   "outputs": [
    {
     "name": "stdout",
     "output_type": "stream",
     "text": [
      " enter a number 56\n",
      " enter second number 78\n",
      "x =  78 y = 56\n"
     ]
    }
   ],
   "source": [
    "#10.\n",
    "x = input(' enter a number ')\n",
    "y= input( ' enter second number ')\n",
    "x=int(x)\n",
    "y=int(y)\n",
    "x = x+y\n",
    "y = x-y\n",
    "x=  x-y\n",
    "print('x = ',x ,'y =',y)"
   ]
  },
  {
   "cell_type": "code",
   "execution_count": null,
   "metadata": {},
   "outputs": [],
   "source": []
  }
 ],
 "metadata": {
  "kernelspec": {
   "display_name": "Python 3",
   "language": "python",
   "name": "python3"
  },
  "language_info": {
   "codemirror_mode": {
    "name": "ipython",
    "version": 3
   },
   "file_extension": ".py",
   "mimetype": "text/x-python",
   "name": "python",
   "nbconvert_exporter": "python",
   "pygments_lexer": "ipython3",
   "version": "3.7.0"
  }
 },
 "nbformat": 4,
 "nbformat_minor": 2
}
