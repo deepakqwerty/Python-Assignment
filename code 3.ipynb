{
 "cells": [
  {
   "cell_type": "code",
   "execution_count": 2,
   "metadata": {},
   "outputs": [
    {
     "name": "stdout",
     "output_type": "stream",
     "text": [
      "Enter a string = er34\n",
      "4\n"
     ]
    }
   ],
   "source": [
    "#1.\n",
    "def lrt(x):\n",
    "    i=0\n",
    "    for a in str(x):\n",
    "        i = i+1\n",
    "    return i\n",
    "\n",
    "c = input('Enter a string = ')\n",
    "print(lrt(c))\n"
   ]
  },
  {
   "cell_type": "code",
   "execution_count": 30,
   "metadata": {},
   "outputs": [
    {
     "name": "stdout",
     "output_type": "stream",
     "text": [
      "Enter a string = deep\n",
      "Enter second string = ffvr\n",
      "deepffvr\n"
     ]
    }
   ],
   "source": [
    "#2.\n",
    "def add(x1,y1):\n",
    "    x1=x1+y1\n",
    "    return x1\n",
    "\n",
    "c1 = input('Enter a string = ')\n",
    "d1 = input('Enter second string = ')\n",
    "print(add(c1,d1))\n"
   ]
  },
  {
   "cell_type": "code",
   "execution_count": 22,
   "metadata": {},
   "outputs": [
    {
     "name": "stdout",
     "output_type": "stream",
     "text": [
      "Enter a string = 123fyhgb\n",
      "letters =  5\n",
      "digits =  3\n",
      "None\n"
     ]
    }
   ],
   "source": [
    "#3.\n",
    "def cnt(x):\n",
    "    i=0\n",
    "    l=0\n",
    "    d=0\n",
    "    for a in str(x):\n",
    "        if ((x[i]>='a' and x[i]<='z')or(x[i]>='A' and x[i]<='Z')):\n",
    "            l=l+1\n",
    "        if ((x[i]>='0' and x[i]<='9')):\n",
    "            d=d+1\n",
    "        i=i+1\n",
    "    print('letters = ',l)\n",
    "    print('digits = ',d)\n",
    "\n",
    "c = input('Enter a string = ')\n",
    "print(cnt(c))\n"
   ]
  },
  {
   "cell_type": "code",
   "execution_count": 1,
   "metadata": {},
   "outputs": [
    {
     "name": "stdout",
     "output_type": "stream",
     "text": [
      "Enter a string = dshkjsd\n",
      "d s h k j s d \n",
      "None\n"
     ]
    }
   ],
   "source": [
    "#4.\n",
    "def show(x):\n",
    "    i=0\n",
    "    for a in x:\n",
    "        print(x[i],end=\" \")\n",
    "        i=i+1\n",
    "    print('')\n",
    "    \n",
    "c3 = input('Enter a string = ')\n",
    "print(show(c3))\n"
   ]
  },
  {
   "cell_type": "code",
   "execution_count": 28,
   "metadata": {},
   "outputs": [
    {
     "name": "stdout",
     "output_type": "stream",
     "text": [
      "Enter a string = hello\n",
      "HELLO\n",
      "None\n"
     ]
    }
   ],
   "source": [
    "#5.\n",
    "def cap(x):\n",
    "    i=0\n",
    "    for a in x:\n",
    "        if(x[i]>='a' and x[i]<='z'):\n",
    "              print(chr(ord(x[i])-32),end=\"\")\n",
    "        else:\n",
    "            print(x[i])\n",
    "        i=i+1\n",
    "    print('')\n",
    "    \n",
    "c3 = input('Enter a string = ')\n",
    "print(cap(c3))"
   ]
  },
  {
   "cell_type": "code",
   "execution_count": null,
   "metadata": {},
   "outputs": [],
   "source": [
    "#6.\n",
    "def capit(xe):\n",
    "    i1=0\n",
    "    l1=0\n",
    "    d1=0\n",
    "    for a in str(xe):\n",
    "        if ((xe[i1]>='a' and xe[i1]<='z')):\n",
    "            l1=l1+1\n",
    "        if ((xe[i1]>='A' and xe[i1]<='Z')):\n",
    "            d1=d1+1\n",
    "        i1=i1+1\n",
    "    print('upper = ',d1)\n",
    "    print('lower = ',l1)\n",
    "\n",
    "c = input('Enter a string = ')\n",
    "print(capit(c))\n",
    "\n"
   ]
  },
  {
   "cell_type": "code",
   "execution_count": 2,
   "metadata": {},
   "outputs": [
    {
     "name": "stdout",
     "output_type": "stream",
     "text": [
      "Enter a string = dfhj\n",
      "d h \n",
      "None\n"
     ]
    }
   ],
   "source": [
    "#7.\n",
    "def evc(x2):\n",
    "    i2=0\n",
    "    for a in str(x2):\n",
    "        if(i2%2==0):\n",
    "            print(x2[i2],end=\" \")\n",
    "        i2=i2+1\n",
    "    print('')\n",
    "c5 = input('Enter a string = ')\n",
    "print(evc(c5))"
   ]
  },
  {
   "cell_type": "code",
   "execution_count": 24,
   "metadata": {},
   "outputs": [
    {
     "name": "stdout",
     "output_type": "stream",
     "text": [
      "Enter a string = hello\n",
      " Enter characters to remove3\n",
      "lo\n"
     ]
    }
   ],
   "source": [
    "#8.\n",
    "def rem(x9,k):\n",
    "    x9=x9[k:]\n",
    "    return x9\n",
    "    \n",
    "c7 = input('Enter a string = ')\n",
    "f = int(input(' Enter characters to remove'))\n",
    "print(rem(c7,f))"
   ]
  },
  {
   "cell_type": "code",
   "execution_count": 23,
   "metadata": {},
   "outputs": [
    {
     "name": "stdout",
     "output_type": "stream",
     "text": [
      "Enter a string = eerr\n",
      "\n",
      "E E R R None\n"
     ]
    }
   ],
   "source": [
    "#9.\n",
    "def swap(e):\n",
    "    i11=0\n",
    "    for a4 in str(e):\n",
    "        if ((e[i11]>='a' and e[i11]<='z')):\n",
    "            print(chr(ord(e[i11])-32),end=\" \")\n",
    "        elif ((e[i11]>='A' and e[i11]<='Z')):\n",
    "            print(chr(ord(e[i11])+32),end= \" \")\n",
    "        i11=i11+1\n",
    "\n",
    "cr = input('Enter a string = ')\n",
    "print('')\n",
    "print(swap(cr))\n"
   ]
  },
  {
   "cell_type": "code",
   "execution_count": 3,
   "metadata": {},
   "outputs": [
    {
     "name": "stdout",
     "output_type": "stream",
     "text": [
      "Enter a string = ttttt\n",
      " Enter character to find = t\n",
      "t = 5\n"
     ]
    }
   ],
   "source": [
    "#10.\n",
    "def fin(x10,k):\n",
    "    iu=0\n",
    "    r=0\n",
    "    for a in str(x10):\n",
    "        if(x10[iu]==k):\n",
    "            r=r+1\n",
    "        iu=iu+1\n",
    "    return r\n",
    "    \n",
    "c70 = input('Enter a string = ')\n",
    "f8 = input(' Enter character to find = ')\n",
    "print(f8,'=',fin(c70,f8))"
   ]
  },
  {
   "cell_type": "code",
   "execution_count": 3,
   "metadata": {},
   "outputs": [
    {
     "name": "stdout",
     "output_type": "stream",
     "text": [
      "Enter a string = asantaatnasa\n",
      "True\n"
     ]
    }
   ],
   "source": [
    "#11.\n",
    "def pal(x9):\n",
    "    ig=0\n",
    "    p=0\n",
    "    for u in str(x9):\n",
    "        p=p+1\n",
    "    for t in str(x9):\n",
    "        if(x9[ig]!=x9[p-ig-1]):\n",
    "            return 0\n",
    "        ig=ig+1\n",
    "    return 1\n",
    "    \n",
    "c78 = input('Enter a string = ')\n",
    "print(bool(pal(c78)))"
   ]
  },
  {
   "cell_type": "code",
   "execution_count": 37,
   "metadata": {},
   "outputs": [
    {
     "name": "stdout",
     "output_type": "stream",
     "text": [
      "Enter a string = 12345\n",
      " Enter second string = 34512\n",
      "True\n"
     ]
    }
   ],
   "source": [
    "#12.\n",
    "def ana(q,p):\n",
    "    u=0\n",
    "    f=len(p)\n",
    "    for s in str(q):\n",
    "        h=0\n",
    "        o1=0\n",
    "        for o in str(p):\n",
    "            d=u\n",
    "            if(q[u]==p[h]):\n",
    "                while(q[u]==p[h]):\n",
    "                        u=u+1\n",
    "                        u=u%f\n",
    "                        h=h+1\n",
    "                        h=h%f\n",
    "                        o1=o1+1\n",
    "                        if(o1==f):\n",
    "                            return 1 \n",
    "                u=d\n",
    "            else:\n",
    "                h=h+1\n",
    "    u=u+1\n",
    "    return 0          \n",
    "                    \n",
    "                   \n",
    "    \n",
    "t = input('Enter a string = ')\n",
    "y = input(' Enter second string = ')\n",
    "print(bool(ana(t,y)))"
   ]
  },
  {
   "cell_type": "code",
   "execution_count": 17,
   "metadata": {},
   "outputs": [
    {
     "name": "stdout",
     "output_type": "stream",
     "text": [
      " Enter a string = Jello\n",
      "Jlo\n",
      "None\n"
     ]
    }
   ],
   "source": [
    "#13.\n",
    "def och(q):\n",
    "    j=0\n",
    "    for j in range(0,len(q),2):\n",
    "            print(q[j],end=\"\")\n",
    "    print('')\n",
    "pol = input(' Enter a string = ')\n",
    "print(och(pol))"
   ]
  },
  {
   "cell_type": "code",
   "execution_count": 5,
   "metadata": {},
   "outputs": [
    {
     "name": "stdout",
     "output_type": "stream",
     "text": [
      "Enter string to change = hello\n",
      "oellh\n"
     ]
    }
   ],
   "source": [
    "#14.\n",
    "def fl(t1):\n",
    "    r1=t1[1:len(t1)-1]\n",
    "    r1=t1[len(t1)-1]+r1+t1[0]\n",
    "    return r1\n",
    "\n",
    "g= input('Enter string to change = ')\n",
    "print(fl(g))\n",
    "    "
   ]
  },
  {
   "cell_type": "code",
   "execution_count": 2,
   "metadata": {},
   "outputs": [
    {
     "name": "stdout",
     "output_type": "stream",
     "text": [
      "Enter string to change = hello\n",
      "Enter character = j\n",
      "Enter index = 0\n",
      "jello\n"
     ]
    }
   ],
   "source": [
    "#15.\n",
    "def frep(t2,l2,i):\n",
    "    er=t2[0:i]\n",
    "    ry=t2[i+1:len(t2)]\n",
    "    rw=er+l2+ry\n",
    "    return rw\n",
    "\n",
    "gr= input('Enter string to change = ')\n",
    "rt= input('Enter character = ')\n",
    "gf= int(input('Enter index = '))\n",
    "print(frep(gr,rt,gf))\n",
    "    "
   ]
  },
  {
   "cell_type": "code",
   "execution_count": 36,
   "metadata": {},
   "outputs": [
    {
     "name": "stdout",
     "output_type": "stream",
     "text": [
      "Enter a string = jhjhjhjhkgjhjjjkhjh\n",
      " Enter sub string = jh\n",
      " The occurence of substring is =  6\n"
     ]
    }
   ],
   "source": [
    "#16.\n",
    "def ocsub(q8,p8):\n",
    "    return q8.count(p8)                \n",
    "                   \n",
    "    \n",
    "t5 = input('Enter a string = ')\n",
    "y5 = input(' Enter sub string = ')\n",
    "print(' The occurence of substring is = ',ocsub(t5,y5))"
   ]
  },
  {
   "cell_type": "code",
   "execution_count": 20,
   "metadata": {},
   "outputs": [
    {
     "name": "stdout",
     "output_type": "stream",
     "text": [
      " This is  lion in  cage\n"
     ]
    }
   ],
   "source": [
    "#17.\n",
    "def deth(cf):\n",
    "    ut=0\n",
    "    a11=0\n",
    "    b11=0\n",
    "    qsc=0\n",
    "    rd=''\n",
    "    for ut in range(len(cf)):\n",
    "        if(cf[ut:(ut+3)]=='the' or (ut==(len(cf)-1))):\n",
    "            b11=ut\n",
    "            if (qsc==0):\n",
    "                rd=rd+cf[a11:b11]\n",
    "                qsc=1\n",
    "            else:\n",
    "                rd=rd+cf[a11:b11]\n",
    "            a11=ut+3\n",
    "            ut=ut+3\n",
    "        else:\n",
    "            ut=ut+1\n",
    "        rd=rd+cf[a11:b11]       \n",
    "    return rd\n",
    "\n",
    "\n",
    "#er45 = input(' Enter string = ')\n",
    "print(deth(' This is the lion in the cage '))\n",
    "            "
   ]
  },
  {
   "cell_type": "code",
   "execution_count": 2,
   "metadata": {},
   "outputs": [
    {
     "name": "stdout",
     "output_type": "stream",
     "text": [
      "Enter binary string = 101101\n",
      "Enter number of consecutive ones = 3\n",
      "False\n"
     ]
    }
   ],
   "source": [
    "#18.\n",
    "def bint(o,lk):\n",
    "    io=0\n",
    "    for io in range(len(o)):\n",
    "        p5=0\n",
    "        if(o[io]=='1'):\n",
    "            while(o[io]=='1'):\n",
    "                io=io+1\n",
    "                io=io%len(o)\n",
    "                p5=p5+1\n",
    "            if(p5==lk):\n",
    "                return 1\n",
    "            \n",
    "        else:\n",
    "            io=io+1\n",
    "    return 0\n",
    "        \n",
    "yhn = input('Enter binary string = ')\n",
    "jkl = int(input('Enter number of consecutive ones = '))\n",
    "print(bool(bint(yhn,jkl)))"
   ]
  },
  {
   "cell_type": "code",
   "execution_count": 16,
   "metadata": {},
   "outputs": [
    {
     "name": "stdout",
     "output_type": "stream",
     "text": [
      "Enter a string to reverse = qe324fgt\n",
      "tgf423eq\n"
     ]
    }
   ],
   "source": [
    "#19.\n",
    "def revs(qaz):\n",
    "    rdy=''\n",
    "    for ij in range(len(qaz)):\n",
    "        rdy=rdy+qaz[len(qaz)-ij-1]\n",
    "    return rdy\n",
    "\n",
    "qwert = input('Enter a string to reverse = ')\n",
    "print(revs(qwert))"
   ]
  },
  {
   "cell_type": "code",
   "execution_count": 19,
   "metadata": {},
   "outputs": [
    {
     "name": "stdout",
     "output_type": "stream",
     "text": [
      "Enter a string to investigate = abcccdbfhdifih\n",
      "Only character not in pair is =  c\n"
     ]
    }
   ],
   "source": [
    "#20.\n",
    "def repev(sdf):\n",
    "    for iju in range(len(sdf)):\n",
    "        if(sdf.count(sdf[iju])%2!=0 and sdf.count(sdf[iju])!=1):\n",
    "             return sdf[iju]\n",
    "\n",
    "\n",
    "qt = input('Enter a string to investigate = ')\n",
    "print('Only character not in pair is = ',repev(qt))"
   ]
  },
  {
   "cell_type": "code",
   "execution_count": 4,
   "metadata": {},
   "outputs": [
    {
     "name": "stdout",
     "output_type": "stream",
     "text": [
      "Enter a string = ths is lion in  a lion in a\n",
      " Enter sub string = lion in a\n",
      " The occurence of substring is =  True\n"
     ]
    }
   ],
   "source": [
    "#21.\n",
    "def isocsub(q89,p89):\n",
    "    u89=0\n",
    "    f89=len(p89)\n",
    "    o89=0\n",
    "    for u89 in range(len(q89)):\n",
    "        h89=0\n",
    "        pu9=0\n",
    "        d89=u89\n",
    "        if (q89[u89]==p89[0]):\n",
    "                while (q89[u89]==p89[h89] and h89<f89 and u89<len(q89)):\n",
    "                        u89=u89+1\n",
    "                        u89=u89%len(q89)\n",
    "                        h89=h89+1\n",
    "                        h89=h89%f89\n",
    "                        pu9=pu9+1\n",
    "                if(pu9==f89):\n",
    "                    return 1\n",
    "                else:\n",
    "                    h89=0\n",
    "        else:\n",
    "            u89=u89+1          \n",
    "    return 0                \n",
    "                   \n",
    "    \n",
    "t53 = input('Enter a string = ')\n",
    "y53 = input(' Enter sub string = ')\n",
    "print(' The occurence of substring is = ',bool(isocsub(t53,y53)))"
   ]
  },
  {
   "cell_type": "code",
   "execution_count": 15,
   "metadata": {},
   "outputs": [
    {
     "name": "stdout",
     "output_type": "stream",
     "text": [
      " Enter number of passwords = 4\n",
      " Enter  a password = ABd1234@1\n",
      "ABd1234@1  Password  accepted \n",
      " Enter  a password = aF1#\n",
      "Rejected\n",
      " Enter  a password = 2w3E*  \n",
      "Rejected\n",
      " Enter  a password = 2We3345 ​\n",
      "Rejected\n"
     ]
    }
   ],
   "source": [
    "#22.\n",
    "def pcheck(ev):\n",
    "    ir=0\n",
    "    ir1=0\n",
    "    ir2=0\n",
    "    ir3=0\n",
    "    ir4=0\n",
    "    for y in ev:\n",
    "        ir=ir+1\n",
    "    ty=len(ev)\n",
    "    if((ir<6) or (ir>12)):\n",
    "        return 0\n",
    "    else:\n",
    "        for ir in range(0,len(ev),1):\n",
    "            if((ev[ir]>='a' and ev[ir]<='z')):\n",
    "                  ir1=1\n",
    "            if((ev[ir]>='A' and ev[ir]<='Z')): \n",
    "                   ir2=1\n",
    "            if((ev[ir]>='1' and ev[ir]<='9')):\n",
    "                   ir3=1\n",
    "            if(ev[ir]=='$' or ev[ir]=='@' or ev[ir]=='#'):  \n",
    "                   ir4=1\n",
    "        return (ir1+ir2+ir3+ir4)\n",
    "\n",
    "\n",
    "tyuo = int(input(' Enter number of passwords = '))\n",
    "for tyuiop in range(0,tyuo,1):\n",
    "    password = input(' Enter  a password = ')\n",
    "    if(pcheck(password)==4):\n",
    "        print(password, ' Password  accepted ')\n",
    "    else: \n",
    "        print('Rejected')"
   ]
  },
  {
   "cell_type": "code",
   "execution_count": null,
   "metadata": {},
   "outputs": [],
   "source": []
  }
 ],
 "metadata": {
  "kernelspec": {
   "display_name": "Python 3",
   "language": "python",
   "name": "python3"
  },
  "language_info": {
   "codemirror_mode": {
    "name": "ipython",
    "version": 3
   },
   "file_extension": ".py",
   "mimetype": "text/x-python",
   "name": "python",
   "nbconvert_exporter": "python",
   "pygments_lexer": "ipython3",
   "version": "3.7.0"
  }
 },
 "nbformat": 4,
 "nbformat_minor": 2
}
