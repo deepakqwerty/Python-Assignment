{
 "cells": [
  {
   "cell_type": "code",
   "execution_count": 23,
   "metadata": {},
   "outputs": [
    {
     "name": "stdout",
     "output_type": "stream",
     "text": [
      " enter a num 4\n",
      "Even\n"
     ]
    }
   ],
   "source": [
    "#1.\n",
    "c= int(input(' enter a num '))\n",
    "if(c%2):\n",
    "    print('Odd')\n",
    "else:\n",
    "    print('Even')"
   ]
  },
  {
   "cell_type": "code",
   "execution_count": 21,
   "metadata": {},
   "outputs": [
    {
     "name": "stdout",
     "output_type": "stream",
     "text": [
      " enter a number 361\n",
      "19\n"
     ]
    }
   ],
   "source": [
    "#2.\n",
    "i= 0\n",
    "q= int(input(' enter a number '))\n",
    "for i in  range(0,q,1):\n",
    "    t = i*i\n",
    "    if t==q:\n",
    "        break\n",
    "print(i)"
   ]
  },
  {
   "cell_type": "code",
   "execution_count": 18,
   "metadata": {},
   "outputs": [
    {
     "name": "stdout",
     "output_type": "stream",
     "text": [
      " enter a number 23\n",
      "1 2 3 4 5 6 7 8 9 10 11 12 13 14 15 16 17 18 19 20 21 22 23  \n",
      "reverse\n",
      "23 22 21 20 19 18 17 16 15 14 13 12 11 10 9 8 7 6 5 4 3 2 1 "
     ]
    }
   ],
   "source": [
    "#3.\n",
    "n= int(input(' enter a number '))\n",
    "for i in range(1,n+1,1):\n",
    "    print(i,end=\" \")\n",
    "print(' ')\n",
    "print('reverse')\n",
    "for i in range(0,n,1):\n",
    "    print(n-i,end=\" \")"
   ]
  },
  {
   "cell_type": "code",
   "execution_count": 14,
   "metadata": {
    "scrolled": true
   },
   "outputs": [
    {
     "name": "stdout",
     "output_type": "stream",
     "text": [
      "2 Even\n",
      "3 Odd\n",
      "4 Even\n",
      "5 Odd\n",
      "6 Even\n",
      "7 Odd\n",
      "8 Even\n",
      "9 Odd\n",
      "10 Even\n",
      "11 Odd\n",
      "12 Even\n",
      "13 Odd\n",
      "14 Even\n",
      "15 Odd\n",
      "16 Even\n",
      "17 Odd\n",
      "18 Even\n",
      "19 Odd\n",
      "20 Even\n",
      "21 Odd\n",
      "22 Even\n",
      "23 Odd\n",
      "24 Even\n",
      "25 Odd\n",
      "26 Even\n",
      "27 Odd\n",
      "28 Even\n",
      "29 Odd\n",
      "30 Even\n",
      "31 Odd\n",
      "32 Even\n",
      "33 Odd\n",
      "34 Even\n",
      "35 Odd\n",
      "36 Even\n",
      "37 Odd\n",
      "38 Even\n",
      "39 Odd\n",
      "40 Even\n",
      "41 Odd\n",
      "42 Even\n",
      "43 Odd\n",
      "44 Even\n",
      "45 Odd\n",
      "46 Even\n",
      "47 Odd\n",
      "48 Even\n",
      "49 Odd\n",
      "50 Even\n",
      "51 Odd\n",
      "52 Even\n",
      "53 Odd\n",
      "54 Even\n",
      "55 Odd\n",
      "56 Even\n",
      "57 Odd\n",
      "58 Even\n",
      "59 Odd\n",
      "60 Even\n",
      "61 Odd\n",
      "62 Even\n",
      "63 Odd\n",
      "64 Even\n",
      "65 Odd\n",
      "66 Even\n",
      "67 Odd\n",
      "68 Even\n",
      "69 Odd\n",
      "70 Even\n",
      "71 Odd\n",
      "72 Even\n",
      "73 Odd\n",
      "74 Even\n",
      "75 Odd\n",
      "76 Even\n",
      "77 Odd\n",
      "78 Even\n",
      "79 Odd\n",
      "80 Even\n",
      "81 Odd\n",
      "82 Even\n",
      "83 Odd\n",
      "84 Even\n",
      "85 Odd\n",
      "86 Even\n",
      "87 Odd\n",
      "88 Even\n",
      "89 Odd\n",
      "90 Even\n",
      "91 Odd\n",
      "92 Even\n",
      "93 Odd\n",
      "94 Even\n",
      "95 Odd\n",
      "96 Even\n",
      "97 Odd\n",
      "98 Even\n",
      "99 Odd\n"
     ]
    }
   ],
   "source": [
    "#4.\n",
    "for i in range(2,100,1):\n",
    "    if i%2==0:\n",
    "        print(i,'Even')\n",
    "    else:\n",
    "        print(i,'Odd')\n"
   ]
  },
  {
   "cell_type": "code",
   "execution_count": 11,
   "metadata": {},
   "outputs": [
    {
     "name": "stdout",
     "output_type": "stream",
     "text": [
      "Enter first 3\n",
      "Enter second 10\n",
      "Enter third 2\n",
      " Roots are  -0.21  &  -3.12\n"
     ]
    }
   ],
   "source": [
    "#5.\n",
    "a1 = int(input('Enter first '))\n",
    "b1 = int(input('Enter second '))\n",
    "c1 = int(input('Enter third '))\n",
    "r1 = ((-1*b1)+(((b1**2)-(4*a1*c1))**(0.5)))/(2*a1)\n",
    "r2 = ((-1*b1)-(((b1**2)-(4*a1*c1))**(0.5)))/(2*a1)\n",
    "print(' Roots are ',round(r1,2),' & ',round(r2,2))"
   ]
  },
  {
   "cell_type": "code",
   "execution_count": 2,
   "metadata": {},
   "outputs": [
    {
     "name": "stdout",
     "output_type": "stream",
     "text": [
      "enter a number67787\n",
      " The number of digits are  5\n"
     ]
    }
   ],
   "source": [
    "#6.\n",
    "n1 = int(input('enter a number'))\n",
    "i=0\n",
    "while n1>0:\n",
    "    i+=1\n",
    "    n1=int(n1/10)\n",
    "\n",
    "print(' The number of digits are ', i)"
   ]
  },
  {
   "cell_type": "code",
   "execution_count": 28,
   "metadata": {},
   "outputs": [
    {
     "name": "stdout",
     "output_type": "stream",
     "text": [
      "Enter number 438\n",
      "False\n"
     ]
    }
   ],
   "source": [
    "#7.\n",
    "p = int(input('Enter number '))\n",
    "i=2\n",
    "c=0\n",
    "for i in range(2,p,1):\n",
    "    if p%i == 0:\n",
    "        c=c+1\n",
    "        break\n",
    "\n",
    "if c==0:    \n",
    "    print('True')\n",
    "else:\n",
    "    print('False')"
   ]
  },
  {
   "cell_type": "code",
   "execution_count": 78,
   "metadata": {},
   "outputs": [
    {
     "name": "stdout",
     "output_type": "stream",
     "text": [
      "Enter number 67\n",
      " The sum is  1064\n"
     ]
    }
   ],
   "source": [
    "#8.\n",
    "p1 = int(input('Enter number '))\n",
    "d=0\n",
    "for i in range(1,p1,1):\n",
    "    if ((i%3 == 0) or (i%5 ==0)):\n",
    "        d=d+i\n",
    "print(' The sum is ',d)"
   ]
  },
  {
   "cell_type": "code",
   "execution_count": 84,
   "metadata": {},
   "outputs": [
    {
     "name": "stdout",
     "output_type": "stream",
     "text": [
      "Enter number 5\n",
      " Enter choice 1:sum 2:product 1\n",
      " you have selected  1  and result is  15\n"
     ]
    }
   ],
   "source": [
    "#9.\n",
    "z = int(input('Enter number '))\n",
    "e=int(input(' Enter choice 1:sum 2:product '))\n",
    "d=1\n",
    "if e==1:\n",
    "    for i in range(2,z+1,1):\n",
    "        d=d+i \n",
    "else:\n",
    "     for i in range(1,z+1,1):\n",
    "        d=d*i\n",
    "print(' you have selected ',e,' and result is ',d)"
   ]
  },
  {
   "cell_type": "code",
   "execution_count": 1,
   "metadata": {},
   "outputs": [
    {
     "name": "stdout",
     "output_type": "stream",
     "text": [
      " The sum is  233168\n"
     ]
    }
   ],
   "source": [
    "#10.\n",
    "d1=0\n",
    "for i1 in range(2,1000,1):\n",
    "        if ((i1%3 == 0) or (i1%5 ==0)):\n",
    "            d1=d1+i1\n",
    "\n",
    "print(' The sum is ',d1)\n"
   ]
  },
  {
   "cell_type": "code",
   "execution_count": 6,
   "metadata": {},
   "outputs": [
    {
     "name": "stdout",
     "output_type": "stream",
     "text": [
      "2002\n",
      "2009\n",
      "2016\n",
      "2023\n",
      "2037\n",
      "2044\n",
      "2051\n",
      "2058\n",
      "2072\n",
      "2079\n",
      "2086\n",
      "2093\n",
      "2107\n",
      "2114\n",
      "2121\n",
      "2128\n",
      "2142\n",
      "2149\n",
      "2156\n",
      "2163\n",
      "2177\n",
      "2184\n",
      "2191\n",
      "2198\n",
      "2212\n",
      "2219\n",
      "2226\n",
      "2233\n",
      "2247\n",
      "2254\n",
      "2261\n",
      "2268\n",
      "2282\n",
      "2289\n",
      "2296\n",
      "2303\n",
      "2317\n",
      "2324\n",
      "2331\n",
      "2338\n",
      "2352\n",
      "2359\n",
      "2366\n",
      "2373\n",
      "2387\n",
      "2394\n",
      "2401\n",
      "2408\n",
      "2422\n",
      "2429\n",
      "2436\n",
      "2443\n",
      "2457\n",
      "2464\n",
      "2471\n",
      "2478\n",
      "2492\n",
      "2499\n",
      "2506\n",
      "2513\n",
      "2527\n",
      "2534\n",
      "2541\n",
      "2548\n",
      "2562\n",
      "2569\n",
      "2576\n",
      "2583\n",
      "2597\n",
      "2604\n",
      "2611\n",
      "2618\n",
      "2632\n",
      "2639\n",
      "2646\n",
      "2653\n",
      "2667\n",
      "2674\n",
      "2681\n",
      "2688\n",
      "2702\n",
      "2709\n",
      "2716\n",
      "2723\n",
      "2737\n",
      "2744\n",
      "2751\n",
      "2758\n",
      "2772\n",
      "2779\n",
      "2786\n",
      "2793\n",
      "2807\n",
      "2814\n",
      "2821\n",
      "2828\n",
      "2842\n",
      "2849\n",
      "2856\n",
      "2863\n",
      "2877\n",
      "2884\n",
      "2891\n",
      "2898\n",
      "2912\n",
      "2919\n",
      "2926\n",
      "2933\n",
      "2947\n",
      "2954\n",
      "2961\n",
      "2968\n",
      "2982\n",
      "2989\n",
      "2996\n",
      "3003\n",
      "3017\n",
      "3024\n",
      "3031\n",
      "3038\n",
      "3052\n",
      "3059\n",
      "3066\n",
      "3073\n",
      "3087\n",
      "3094\n",
      "3101\n",
      "3108\n",
      "3122\n",
      "3129\n",
      "3136\n",
      "3143\n",
      "3157\n",
      "3164\n",
      "3171\n",
      "3178\n",
      "3192\n",
      "3199\n"
     ]
    }
   ],
   "source": [
    "#11.\n",
    "d2=1\n",
    "for i2 in range(2000,3201,1):\n",
    "        if ((i2%7 == 0) and (i2%5 !=0)):\n",
    "            print(i2)"
   ]
  },
  {
   "cell_type": "code",
   "execution_count": 7,
   "metadata": {},
   "outputs": [
    {
     "name": "stdout",
     "output_type": "stream",
     "text": [
      " difference is  333300\n"
     ]
    }
   ],
   "source": [
    "#12.\n",
    "d3=0\n",
    "s=0\n",
    "for i3 in range(1,101,1):\n",
    "    d3=d3+i3\n",
    "    s=s+(i3*i3)\n",
    "\n",
    "r= d3*d3\n",
    "w = s-d3\n",
    "print(' difference is ',w)"
   ]
  },
  {
   "cell_type": "code",
   "execution_count": 1,
   "metadata": {},
   "outputs": [
    {
     "name": "stdout",
     "output_type": "stream",
     "text": [
      "Enter a number input stop to stop1\n",
      "Enter a number input stop to stop2\n",
      "Enter a number input stop to stop3\n",
      "Enter a number input stop to stop4\n",
      "Enter a number input stop to stopstop\n",
      "The total is  10\n",
      " you entered  4  numbers \n",
      " The average is  2.5\n"
     ]
    }
   ],
   "source": [
    "#13.\n",
    "f=0\n",
    "c=0\n",
    "i=1\n",
    "while i>0:\n",
    "    h=input('Enter a number input stop to stop')\n",
    "    if(h!='stop' ):\n",
    "        h=int(h)\n",
    "        f=f+h\n",
    "        c=c+1\n",
    "    else:\n",
    "        print('The total is ',f)\n",
    "        print(' you entered ',c,' numbers ')\n",
    "        y=f/c\n",
    "        print(' The average is ',y)\n",
    "        break\n",
    "    i+=1"
   ]
  },
  {
   "cell_type": "code",
   "execution_count": 72,
   "metadata": {},
   "outputs": [
    {
     "name": "stdout",
     "output_type": "stream",
     "text": [
      "Enter a number = 17\n",
      "prime number is 2\n",
      "prime number is 3\n",
      "prime number is 5\n",
      "prime number is 7\n",
      "prime number is 11\n",
      "prime number is 13\n",
      "prime number is 17\n"
     ]
    }
   ],
   "source": [
    "#14.\n",
    "u=int(input('Enter a number = '))\n",
    "for i in range(2,u+1,1):\n",
    "    j=0\n",
    "    for f in range(2,i,1):\n",
    "        if(i%f==0):\n",
    "            j=1\n",
    "            break\n",
    "    if(j==0):\n",
    "        print( 'prime number is',i)"
   ]
  },
  {
   "cell_type": "code",
   "execution_count": 12,
   "metadata": {},
   "outputs": [
    {
     "name": "stdout",
     "output_type": "stream",
     "text": [
      "Enter number of choice 12\n",
      " factorial is  479001600\n"
     ]
    }
   ],
   "source": [
    "#15.\n",
    "t=int(input('Enter number of choice '))\n",
    "d4=1\n",
    "for i in range(1,t,1):\n",
    "    d4=d4*(i+1)\n",
    "print(' factorial is ',d4)"
   ]
  },
  {
   "cell_type": "code",
   "execution_count": 13,
   "metadata": {},
   "outputs": [
    {
     "name": "stdout",
     "output_type": "stream",
     "text": [
      " Enter limit of fibonacci series 32\n",
      "0\n",
      "1\n",
      "2\n",
      "3\n",
      "5\n",
      "8\n",
      "13\n",
      "21\n",
      "34\n"
     ]
    }
   ],
   "source": [
    "#16.\n",
    "o=int(input(' Enter limit of fibonacci series '))\n",
    "i=1\n",
    "a=0\n",
    "b=0\n",
    "print('0')\n",
    "while i<o:\n",
    "    b=i+a\n",
    "    print(b)\n",
    "    t=i\n",
    "    i=b\n",
    "    a=t\n",
    "    "
   ]
  },
  {
   "cell_type": "code",
   "execution_count": 4,
   "metadata": {},
   "outputs": [
    {
     "name": "stdout",
     "output_type": "stream",
     "text": [
      " enter first number 34\n",
      " enter second number 34\n",
      "LCM is  34\n"
     ]
    }
   ],
   "source": [
    "#17.\n",
    "x = int(input(' enter first number '))\n",
    "y = int(input(' enter second number '))\n",
    "i=1\n",
    "while i>0:\n",
    "        i = i+1\n",
    "        if ((i%x==0) and (i%y==0)):\n",
    "            print('LCM is ',i)\n",
    "            break\n",
    "            "
   ]
  },
  {
   "cell_type": "code",
   "execution_count": 1,
   "metadata": {},
   "outputs": [
    {
     "name": "stdout",
     "output_type": "stream",
     "text": [
      " Enter a number 56\n",
      " factor is  1\n",
      " factor is  2\n",
      " factor is  4\n",
      " factor is  7\n",
      " factor is  8\n",
      " factor is  14\n",
      " factor is  28\n",
      " factor is  56\n"
     ]
    }
   ],
   "source": [
    "#18.\n",
    "f=int(input(' Enter a number '))\n",
    "i=1\n",
    "for i in range(1,f+1,1):\n",
    "    if (f%i==0):\n",
    "        print(' factor is ',i)"
   ]
  },
  {
   "cell_type": "code",
   "execution_count": 21,
   "metadata": {},
   "outputs": [
    {
     "name": "stdout",
     "output_type": "stream",
     "text": [
      "* \n",
      "\n",
      "* * \n",
      "\n",
      "* * * \n",
      "\n",
      "* * * * \n",
      "\n",
      "* * * * * \n",
      "\n"
     ]
    }
   ],
   "source": [
    "#19 1.\n",
    "for i in range(1,6,1):\n",
    "    for j in range(1,i+1,1):\n",
    "         print('*',end =\" \")\n",
    "    print('\\n')"
   ]
  },
  {
   "cell_type": "code",
   "execution_count": 65,
   "metadata": {},
   "outputs": [
    {
     "name": "stdout",
     "output_type": "stream",
     "text": [
      "* * * * * * * \n",
      "\n",
      "* * * * * * \n",
      "\n",
      "* * * * * \n",
      "\n",
      "* * * * \n",
      "\n",
      "* * * \n",
      "\n",
      "* * \n",
      "\n",
      "* \n",
      "\n"
     ]
    }
   ],
   "source": [
    "#19 2.\n",
    "r=7\n",
    "while r>=1:\n",
    "    y=1\n",
    "    while y<=r:\n",
    "        print('*',end =\" \")\n",
    "        y=y+1\n",
    "    print('\\n')\n",
    "    r=r-1"
   ]
  },
  {
   "cell_type": "code",
   "execution_count": 66,
   "metadata": {},
   "outputs": [
    {
     "name": "stdout",
     "output_type": "stream",
     "text": [
      "1 \n",
      "\n",
      "2 2 \n",
      "\n",
      "3 3 3 \n",
      "\n",
      "4 4 4 4 \n",
      "\n",
      "5 5 5 5 5 \n",
      "\n"
     ]
    }
   ],
   "source": [
    "#19 3.\n",
    "for l in range(1,6,1):\n",
    "    for k in range(1,l+1,1):\n",
    "         print(l,end =\" \")\n",
    "    print('\\n')"
   ]
  },
  {
   "cell_type": "code",
   "execution_count": 67,
   "metadata": {},
   "outputs": [
    {
     "name": "stdout",
     "output_type": "stream",
     "text": [
      "       *  \n",
      "\n",
      "     *   *  \n",
      "\n",
      "   *   *   *  \n",
      "\n",
      " *   *   *   *  \n",
      "\n"
     ]
    }
   ],
   "source": [
    "#19 4.\n",
    "n=4\n",
    "for l in range(1,5,1):\n",
    "    for g in range(1,n,1):\n",
    "        print(' ',end=\" \")\n",
    "    for k in range(1,l+1,1):\n",
    "         print(' * ',end =\" \")\n",
    "    n=n-1\n",
    "    print('\\n')"
   ]
  },
  {
   "cell_type": "code",
   "execution_count": 6,
   "metadata": {},
   "outputs": [
    {
     "name": "stdout",
     "output_type": "stream",
     "text": [
      "1 \n",
      "\n",
      "2 3 \n",
      "\n",
      "4 5 6 \n",
      "\n",
      "7 8 9 10 \n",
      "\n"
     ]
    }
   ],
   "source": [
    "#19 5.\n",
    "c=1\n",
    "for p in range(1,5,1):\n",
    "    for o in range(1,p+1,1):\n",
    "        print(c,end =\" \")\n",
    "        c=c+1\n",
    "    print('\\n')"
   ]
  },
  {
   "cell_type": "code",
   "execution_count": 4,
   "metadata": {},
   "outputs": [
    {
     "name": "stdout",
     "output_type": "stream",
     "text": [
      "A \n",
      "\n",
      "B C \n",
      "\n",
      "D E F \n",
      "\n",
      "G H I J K\n",
      "\n",
      "\n"
     ]
    }
   ],
   "source": [
    "#19 6.\n",
    "c='ABCDEFGHIJKLMNOPQ'\n",
    "y=0\n",
    "for p in range(1,5,1):\n",
    "    for o in range(1,p+1,1):\n",
    "        print(c[y],end =\" \")\n",
    "        y=y+1\n",
    "    if(p==4):\n",
    "        print('K')\n",
    "    print('\\n')\n"
   ]
  },
  {
   "cell_type": "code",
   "execution_count": 6,
   "metadata": {},
   "outputs": [
    {
     "name": "stdout",
     "output_type": "stream",
     "text": [
      " Enter number for pattern 9\n",
      "9 + 99 + 999 + 9999 = 11106\n"
     ]
    }
   ],
   "source": [
    "#22.\n",
    "s = int(input(' Enter number for pattern '))\n",
    "t=0\n",
    "i=1\n",
    "g=1\n",
    "p=0\n",
    "while i<=4:\n",
    "    t=t+(g*s)\n",
    "    p=p+t\n",
    "    print(t,'+',end=\" \")\n",
    "    i+=1\n",
    "    g=g*10\n",
    "print('\\b\\b=',p)"
   ]
  },
  {
   "cell_type": "code",
   "execution_count": null,
   "metadata": {},
   "outputs": [],
   "source": []
  },
  {
   "cell_type": "code",
   "execution_count": null,
   "metadata": {},
   "outputs": [],
   "source": []
  }
 ],
 "metadata": {
  "kernelspec": {
   "display_name": "Python 3",
   "language": "python",
   "name": "python3"
  },
  "language_info": {
   "codemirror_mode": {
    "name": "ipython",
    "version": 3
   },
   "file_extension": ".py",
   "mimetype": "text/x-python",
   "name": "python",
   "nbconvert_exporter": "python",
   "pygments_lexer": "ipython3",
   "version": "3.7.0"
  }
 },
 "nbformat": 4,
 "nbformat_minor": 2
}
